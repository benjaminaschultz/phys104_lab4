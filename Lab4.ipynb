{
 "cells": [
  {
   "cell_type": "markdown",
   "metadata": {},
   "source": [
    "# Lab 4: Momentum\n",
    "\n",
    "To get started, execute the cell below to import a few functions we'll use today."
   ]
  },
  {
   "cell_type": "code",
   "execution_count": null,
   "metadata": {
    "editable": false
   },
   "outputs": [],
   "source": [
    "%matplotlib agg\n",
    "from utils import *"
   ]
  },
  {
   "cell_type": "markdown",
   "metadata": {},
   "source": [
    "In this lab we will be simulating collisions between masses. We'll use the concepts of conservation of momentum and energy to determine unknown masses and velocities in each experiment\n",
    "\n",
    "When two masses collide, their total momentum is preserved. In certain types of collisions the energy is preserved (\"elastic\") collisions and in other types of collisions some of the energy goes into deforming the objects that have collided (\"inelastic\").\n",
    "\n",
    "As a reminder, an individual particle $i$ has a momentum\n",
    "$$  \\vec{p}_i = m_i \\vec{v}_i $$\n",
    "\n",
    "and total momentum is conserved during a collision\n",
    "$$ \\sum_i \\vec{p}_{i,init} = \\sum_i \\vec{p}_{i,final} $$\n",
    "\n",
    "\n",
    "\n"
   ]
  },
  {
   "cell_type": "markdown",
   "metadata": {
    "editable": false
   },
   "source": [
    "## Warm up problems\n",
    "\n",
    "Write up your solutions to the problems below, along with your work for experiments 1 and 2. Submit a pdf via email to bs063@tc3.edu by 10/14/20\n",
    "\n",
    "1. If two masses collide with $m_1 = 1kg$ and $m_2 = 3kg$ and initial velocities $v_1 = 5 m/s$ and $v_2 = -3 m/s$. If the collision is perfectly elastic, what is the final velocity of the two particles?\n",
    "\n",
    "\n",
    "2. If two masses collide with $m_1 = 1kg$ and $m_2 = 3kg$ and initial velocities $v_1 = 5 m/s$ and $v_2 = -3 m/s$. If the collision is perfectly inelastic (the masses fused after colliding), what is the final velocity of the resulting fused particle? What is the amount of kinetic energy lost in the collsion?\n",
    "\n",
    "\n",
    "3. A particle of mass $m = 1kg$ is travelling at a velocity of $2.5 m/s$ crashes into a particle of unknown mass at rest. You can measure the velocity of the particle as it bounces back and it is $-1.07 m/s$.\n",
    "\n",
    "    You're able to repeat this experiment by launching a different particle of mass $m = 5kg$ at the same unknown particle at rest. You measure its velocity after the collsion at $0.33m/s$.\n",
    "    \n",
    "    What is the mass of the unknown particle?\n",
    "\n"
   ]
  },
  {
   "cell_type": "markdown",
   "metadata": {
    "editable": false
   },
   "source": [
    "# Experiment 1\n",
    "\n",
    "In the first experiment two masses collide in one dimension. Your goal is to determine the mass of particle 2 ($m_2$) and its initial velocity ($v_{2i}$).\n",
    "\n",
    "You can adjust the mass of particle 1 ($m_1$) and its initial velocity ($v_{1i}$). When you select values, a simulation will run and you will see the collision and print out the final velocity of particle 1 ($v_{1f}$) and the final velocity of particle 2 ($v_{2f})$.\n",
    "\n",
    "Execute the cell below to create the simulation widget.\n"
   ]
  },
  {
   "cell_type": "code",
   "execution_count": null,
   "metadata": {
    "editable": false
   },
   "outputs": [],
   "source": [
    "odc = OneDimensionalCollision()"
   ]
  },
  {
   "cell_type": "markdown",
   "metadata": {
    "editable": false
   },
   "source": [
    "What is the mass of particle 2?"
   ]
  },
  {
   "cell_type": "markdown",
   "metadata": {},
   "source": [
    "_answer_"
   ]
  },
  {
   "cell_type": "markdown",
   "metadata": {
    "editable": false
   },
   "source": [
    "What is the inital velocity of particle 2?"
   ]
  },
  {
   "cell_type": "markdown",
   "metadata": {},
   "source": [
    "_answer_"
   ]
  },
  {
   "cell_type": "markdown",
   "metadata": {
    "editable": false
   },
   "source": [
    "Is energy conserved in this collision? What is the initial and final energy?"
   ]
  },
  {
   "cell_type": "markdown",
   "metadata": {},
   "source": [
    "_answer_"
   ]
  },
  {
   "cell_type": "markdown",
   "metadata": {
    "editable": false
   },
   "source": [
    "# Experiment 2\n",
    "In the second experiment two particles with masses $m_1$ and $m_2$ collide in two dimensions and fuse together into a third particle with mass $m_3 = m_1 + m_2 $.\n",
    "\n",
    "You can select the mass of particle 1 and the x and components of its initial velocity $v_{1x}$ and $v_{1y}$. When you select a value, a simulation will run and display the velocity of the fused particle $m_3$.\n",
    "\n",
    "Use this widget to determine $m_2$ and its initial velocity $\\vec{v_2} = v_{2x}\\hat{x} + v_{2y}\\hat{y}$ \n",
    "\n",
    "Execute the cell below to create the simulation widget.\n"
   ]
  },
  {
   "cell_type": "code",
   "execution_count": null,
   "metadata": {
    "editable": false
   },
   "outputs": [],
   "source": [
    "tdic =  TwoDimensionalCollision()"
   ]
  },
  {
   "cell_type": "markdown",
   "metadata": {
    "editable": false
   },
   "source": [
    "What is the mass of particle 2, $m_2$?"
   ]
  },
  {
   "cell_type": "markdown",
   "metadata": {},
   "source": [
    "_answer_"
   ]
  },
  {
   "cell_type": "markdown",
   "metadata": {
    "editable": false
   },
   "source": [
    "What is the inital velocity of particle 2? $\\vec{v_2} = v_{2x}\\hat{x} + v_{2y}\\hat{y}$ "
   ]
  },
  {
   "cell_type": "markdown",
   "metadata": {},
   "source": [
    "_answer_"
   ]
  },
  {
   "cell_type": "markdown",
   "metadata": {
    "editable": false
   },
   "source": [
    "Energy is not conserved in this collision. How much energy is absorbed by the particles?"
   ]
  },
  {
   "cell_type": "markdown",
   "metadata": {},
   "source": [
    "_answer_"
   ]
  }
 ],
 "metadata": {
  "kernelspec": {
   "display_name": "Python 3",
   "language": "python",
   "name": "python3"
  },
  "language_info": {
   "codemirror_mode": {
    "name": "ipython",
    "version": 3
   },
   "file_extension": ".py",
   "mimetype": "text/x-python",
   "name": "python",
   "nbconvert_exporter": "python",
   "pygments_lexer": "ipython3",
   "version": "3.8.5"
  }
 },
 "nbformat": 4,
 "nbformat_minor": 4
}
